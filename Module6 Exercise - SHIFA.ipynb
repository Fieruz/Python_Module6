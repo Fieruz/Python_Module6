{
 "cells": [
  {
   "cell_type": "markdown",
   "metadata": {},
   "source": [
    "### Exercise 1\n",
    "Convert following decimal number to a binary number by hand:\n",
    "\n",
    "    61      # 0011 1101\n",
    "    15      # 0000 1111\n",
    "    71      # 0100 0111\n",
    "    "
   ]
  },
  {
   "cell_type": "code",
   "execution_count": null,
   "metadata": {},
   "outputs": [],
   "source": [
    "# 0011 1101\n",
    "# 0000 1111\n",
    "# 0100 0111\n",
    "\n",
    "    "
   ]
  },
  {
   "cell_type": "markdown",
   "metadata": {},
   "source": [
    "### Exercise 2\n",
    "When a = 61 and b = 15, what is the result of following bitwise opertion? Use inline comments to show your result in a binary number. Find your answer by hand.\n",
    "\n",
    "    a & b\n",
    "    a | b\n",
    "    a ^ b\n",
    "    a >> 2\n",
    "    "
   ]
  },
  {
   "cell_type": "code",
   "execution_count": null,
   "metadata": {},
   "outputs": [],
   "source": [
    "# convert a in to a binary number\n",
    "\n",
    "# a = 0010 1111      #a =61\n",
    "# convert b in to a binary number\n",
    "\n",
    "# b= 0000 1111     #b= 15"
   ]
  },
  {
   "cell_type": "code",
   "execution_count": null,
   "metadata": {},
   "outputs": [],
   "source": [
    "# a & b\n",
    "a = 61  # 0010 1111\n",
    "b = 15  # 0000 1111\n",
    "\n",
    "a & b    # 0000 1101\n",
    "\n",
    "\n"
   ]
  },
  {
   "cell_type": "code",
   "execution_count": null,
   "metadata": {},
   "outputs": [],
   "source": [
    "bin(13)"
   ]
  },
  {
   "cell_type": "code",
   "execution_count": null,
   "metadata": {},
   "outputs": [],
   "source": [
    "a | b    # 0011 1111\n"
   ]
  },
  {
   "cell_type": "code",
   "execution_count": null,
   "metadata": {},
   "outputs": [],
   "source": [
    "bin(63)"
   ]
  },
  {
   "cell_type": "code",
   "execution_count": null,
   "metadata": {},
   "outputs": [],
   "source": [
    " a ^ b    # 0011 0010\n"
   ]
  },
  {
   "cell_type": "code",
   "execution_count": null,
   "metadata": {},
   "outputs": [],
   "source": [
    "bin(50)"
   ]
  },
  {
   "cell_type": "code",
   "execution_count": null,
   "metadata": {},
   "outputs": [],
   "source": [
    " a >> 2\n"
   ]
  },
  {
   "cell_type": "code",
   "execution_count": null,
   "metadata": {},
   "outputs": [],
   "source": [
    "bin(15)   # 0000 1111"
   ]
  },
  {
   "cell_type": "code",
   "execution_count": null,
   "metadata": {},
   "outputs": [],
   "source": [
    "# a = 15            0000 1111\n",
    "\n",
    "print(a >> 2)     # 0000 1111\n",
    "print(int('00001111', 2))"
   ]
  },
  {
   "cell_type": "markdown",
   "metadata": {},
   "source": [
    "### Exercise 3\n",
    "Ask a user for a code and store that answer. \n",
    "If the answer is <b>grey</b> then print \"You found secret code.\"\n",
    "Otherwise print that the entered code is not the secret code."
   ]
  },
  {
   "cell_type": "code",
   "execution_count": 2,
   "metadata": {},
   "outputs": [
    {
     "name": "stdout",
     "output_type": "stream",
     "text": [
      "guess a number between 1 and 5: 6\n",
      "you entered, not the secret code.\n",
      "guess a number between 1 and 5: 5\n",
      "you entered, not the secret code.\n",
      "guess a number between 1 and 5: 4\n",
      "You found secret code.\n"
     ]
    }
   ],
   "source": [
    "import random\n",
    "numb = random.randint(1, 5)\n",
    "user = None\n",
    "\n",
    "while user != numb:\n",
    "    user = input(\"guess a number between 1 and 5: \")\n",
    "    user = int(user)\n",
    "\n",
    "    if user == numb:\n",
    "        print(\"You found secret code.\")\n",
    "        break\n",
    "    else:\n",
    "        print(\"you entered, not the secret code.\")"
   ]
  },
  {
   "cell_type": "markdown",
   "metadata": {},
   "source": [
    "### Exercise 4\n",
    "Ask for an exam score and store that number. If the number is greater than 100, then print out 'You cannot have an exam score higher than 100'. If the number doesn't exceeed 100 but is greater than or equal to 75, then print out 'You did great on your exam!'. Otherwise if they scored lower than 75, then print out 'You need to study harder'."
   ]
  },
  {
   "cell_type": "code",
   "execution_count": 4,
   "metadata": {},
   "outputs": [],
   "source": [
    "def exam(score):\n",
    "    if score > 100:\n",
    "        message = \"You cannot have an exam score higher than 100\"\n",
    "    elif score <= 100 and score >= 75 :\n",
    "        message= \"You did great on your exam!\"\n",
    "    else :\n",
    "        message = \"You need to study harder\"\n",
    "    return message"
   ]
  },
  {
   "cell_type": "code",
   "execution_count": 5,
   "metadata": {},
   "outputs": [
    {
     "name": "stdout",
     "output_type": "stream",
     "text": [
      "Enter test score: 120\n",
      "You cannot have an exam score higher than 100\n",
      "Enter test score: 90\n",
      "You did great on your exam!\n",
      "Enter test score: 70\n",
      "You need to study harder\n"
     ]
    }
   ],
   "source": [
    "score = int(input(\"Enter test score: \"))\n",
    "print(exam(score))\n",
    "\n",
    "score = int(input(\"Enter test score: \"))\n",
    "print(exam(score))\n",
    "\n",
    "score = int(input(\"Enter test score: \"))\n",
    "print(exam(score))\n",
    "\n",
    "\n"
   ]
  },
  {
   "cell_type": "markdown",
   "metadata": {},
   "source": [
    "### Exercise 5\n",
    "Write a function to convert a test score to a grade where  \n",
    " - 90 - 100: A\n",
    " - 80 - 89:  B\n",
    " - 70 - 79:  C\n",
    " - 60 - 69:  D\n",
    " - < 60   :  F\n",
    " \n",
    "If a score is not between 0 and 100 then print out an error message. In the program, ask the user for a score and then call your function. "
   ]
  },
  {
   "cell_type": "code",
   "execution_count": 6,
   "metadata": {},
   "outputs": [],
   "source": [
    "# define your function\n",
    "def test_score(grade) :\n",
    "    if grade >= 90 and grade <= 100:\n",
    "        return 'A'\n",
    "    elif grade >= 80 and grade <= 89:\n",
    "        return 'B'\n",
    "    elif grade >= 70 and grade <= 79:\n",
    "        return 'C'\n",
    "    elif grade >= 60 and grade <= 69:\n",
    "        return ' D'\n",
    "    elif grade < 69 :\n",
    "        return 'F '\n",
    "    else:\n",
    "        return \"Error \""
   ]
  },
  {
   "cell_type": "code",
   "execution_count": 8,
   "metadata": {},
   "outputs": [
    {
     "name": "stdout",
     "output_type": "stream",
     "text": [
      "Enter test score: 105\n",
      "Error \n",
      "Enter test score: 80\n",
      "B\n",
      "Enter test score: 90\n",
      "A\n"
     ]
    }
   ],
   "source": [
    "# ask the user for a score and then call your function\n",
    "\n",
    "grade = int(input(\"Enter test score: \"))\n",
    "print(test_score(grade))\n",
    "\n",
    "grade = int(input(\"Enter test score: \"))\n",
    "print(test_score(grade))\n",
    "\n",
    "grade = int(input(\"Enter test score: \"))\n",
    "print(test_score(grade))\n"
   ]
  },
  {
   "cell_type": "code",
   "execution_count": null,
   "metadata": {},
   "outputs": [],
   "source": []
  }
 ],
 "metadata": {
  "kernelspec": {
   "display_name": "Python 3",
   "language": "python",
   "name": "python3"
  },
  "language_info": {
   "codemirror_mode": {
    "name": "ipython",
    "version": 3
   },
   "file_extension": ".py",
   "mimetype": "text/x-python",
   "name": "python",
   "nbconvert_exporter": "python",
   "pygments_lexer": "ipython3",
   "version": "3.8.8"
  }
 },
 "nbformat": 4,
 "nbformat_minor": 4
}
